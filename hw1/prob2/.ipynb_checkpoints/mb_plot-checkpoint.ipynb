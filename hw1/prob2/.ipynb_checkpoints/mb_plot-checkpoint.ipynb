{
 "cells": [
  {
   "cell_type": "code",
   "execution_count": 3,
   "metadata": {},
   "outputs": [
    {
     "data": {
      "image/png": "[encoded data removed]",
      "text/plain": [
       "<Figure size 432x288 with 2 Axes>"
      ]
     },
     "metadata": {
      "needs_background": "light"
     },
     "output_type": "display_data"
    }
   ],
   "source": [
    "import matplotlib.pyplot as plt\n",
    "from matplotlib.colors import LogNorm\n",
    "import numpy as np # We are going use numpy later on\n",
    "\n",
    "\n",
    "pixels = []\n",
    "with open(\"low_res_mesh.txt\", \"r\", encoding=\"utf-8\") as f:\n",
    "    for n in f:\n",
    "        n.strip('\\n')\n",
    "        i = int(n)\n",
    "        pixels.append(i)\n",
    "        \n",
    "a = np.array(pixels)\n",
    "a.shape = (10, 10)\n",
    "plt.imshow(a, norm=LogNorm())\n",
    "plt.colorbar()\n",
    "plt.show()"
   ]
  },
  {
   "cell_type": "code",
   "execution_count": null,
   "metadata": {},
   "outputs": [],
   "source": [
    "pixels = []\n",
    "with open(\"mid_res_mesh.txt\", \"r\", encoding=\"utf-8\") as f:\n",
    "    for n in f:\n",
    "        n.strip('\\n')\n",
    "        i = int(n)\n",
    "        pixels.append(i)\n",
    "        \n",
    "a = np.array(pixels)\n",
    "a.shape = (100, 100)\n",
    "plt.imshow(a, norm=LogNorm())\n",
    "plt.colorbar()\n",
    "plt.show()"
   ]
  },
  {
   "cell_type": "code",
   "execution_count": null,
   "metadata": {},
   "outputs": [],
   "source": [
    "pixels = []\n",
    "with open(\"high_res_mesh.txt\", \"r\", encoding=\"utf-8\") as f:\n",
    "    for n in f:\n",
    "        n.strip('\\n')\n",
    "        i = int(n)\n",
    "        pixels.append(i)\n",
    "        \n",
    "a = np.array(pixels)\n",
    "a.shape = (1000, 1000)\n",
    "plt.imshow(a, norm=LogNorm())\n",
    "plt.colorbar()\n",
    "plt.show()"
   ]
  }
 ],
 "metadata": {
  "kernelspec": {
   "display_name": "Python 3 (ipykernel)",
   "language": "python",
   "name": "python3"
  },
  "language_info": {
   "codemirror_mode": {
    "name": "ipython",
    "version": 3
   },
   "file_extension": ".py",
   "mimetype": "text/x-python",
   "name": "python",
   "nbconvert_exporter": "python",
   "pygments_lexer": "ipython3",
   "version": "3.9.12"
  }
 },
 "nbformat": 4,
 "nbformat_minor": 2
}
